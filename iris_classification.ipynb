{
 "cells": [
  {
   "cell_type": "code",
   "execution_count": 1,
   "metadata": {},
   "outputs": [],
   "source": [
    "from sklearn.datasets import load_iris\n",
    "import tensorflow as tf\n",
    "import matplotlib.pyplot as plt\n",
    "from tensorflow import keras\n",
    "from tensorflow.keras import layers\n",
    "import numpy as np"
   ]
  },
  {
   "cell_type": "code",
   "execution_count": 2,
   "metadata": {},
   "outputs": [
    {
     "name": "stdout",
     "output_type": "stream",
     "text": [
      "Model: \"functional_1\"\n",
      "_________________________________________________________________\n",
      "Layer (type)                 Output Shape              Param #   \n",
      "=================================================================\n",
      "x_1 (InputLayer)             [(None, 4)]               0         \n",
      "_________________________________________________________________\n",
      "dense (Dense)                (None, 3)                 15        \n",
      "=================================================================\n",
      "Total params: 15\n",
      "Trainable params: 15\n",
      "Non-trainable params: 0\n",
      "_________________________________________________________________\n"
     ]
    }
   ],
   "source": [
    "X,y=load_iris(return_X_y=True)\n",
    "x_1 = keras.Input(shape=(X.shape[1],), name='x_1')\n",
    "h1_1 = layers.Dense(len(set(y)), activation='softmax')(x_1)\n",
    "model = keras.Model(inputs=[x_1], outputs=h1_1)\n",
    "model.summary()"
   ]
  },
  {
   "cell_type": "code",
   "execution_count": 3,
   "metadata": {},
   "outputs": [
    {
     "data": {
      "image/png": "[encoded data removed]",
      "text/plain": [
       "<Figure size 432x288 with 1 Axes>"
      ]
     },
     "metadata": {
      "needs_background": "light"
     },
     "output_type": "display_data"
    }
   ],
   "source": [
    "model.compile(optimizer='sgd',loss=tf.keras.losses.SparseCategoricalCrossentropy())\n",
    "history = model.fit(X,y,batch_size=100,epochs=1100, verbose=0)\n",
    "plt.plot(history.history['loss'])\n",
    "plt.show()"
   ]
  },
  {
   "cell_type": "code",
   "execution_count": 6,
   "metadata": {},
   "outputs": [],
   "source": [
    "from sklearn.model_selection import RepeatedStratifiedKFold\n",
    "from sklearn.metrics import precision_score\n",
    "from sklearn.metrics import accuracy_score\n",
    "from sklearn.metrics import recall_score"
   ]
  },
  {
   "cell_type": "code",
   "execution_count": 17,
   "metadata": {},
   "outputs": [],
   "source": [
    "KXa10=0\n",
    "KXp10=0\n",
    "KXr10=0\n",
    "wp10=0\n",
    "wr10=0\n",
    "rskf = RepeatedStratifiedKFold(n_splits=10, n_repeats=1,random_state=36851234)\n",
    "for train_index, test_index in rskf.split(X, y):\n",
    "    X_train, X_test = X[train_index], X[test_index]\n",
    "    y_train, y_test = y[train_index], y[test_index]\n",
    "    model.fit(X_train,y_train,batch_size=100,epochs=1100, verbose=0)\n",
    "    yp=np.argmax(model.predict(X_test),axis=-1)\n",
    "    KXa10+=accuracy_score(y_test,yp)\n",
    "    KXp10+=precision_score(y_test,yp,average=None)\n",
    "    wp10+=precision_score(y_test,yp,average='weighted')\n",
    "    KXr10+=recall_score(y_test,yp,average=None)\n",
    "    wr10+=recall_score(y_test,yp,average='weighted')\n",
    "KXa10/=10\n",
    "KXp10/=10\n",
    "KXr10/=10\n",
    "wp10/=10\n",
    "wr10/=10"
   ]
  },
  {
   "cell_type": "code",
   "execution_count": 24,
   "metadata": {},
   "outputs": [
    {
     "name": "stdout",
     "output_type": "stream",
     "text": [
      "Accuracy:0.973333\n",
      "-----------------------------------------------\n",
      "逐類的precision: 1.000000, 0.983333, 0.950000\n",
      "-----------------------------------------------\n",
      "使用weighted得到的precision:0.977778\n",
      "-----------------------------------------------\n",
      "逐類的recall: 1.000000, 0.940000, 0.980000\n",
      "-----------------------------------------------\n",
      "使用weighted得到的recall:0.973333\n"
     ]
    }
   ],
   "source": [
    "print(\"Accuracy:%f\"%KXa10)\n",
    "print(\"-----------------------------------------------\")\n",
    "print(\"逐類的precision: %f, %f, %f\"%(KXp10[0],KXp10[1],KXp10[2]))\n",
    "print(\"-----------------------------------------------\")\n",
    "print(\"使用weighted得到的precision:%f\"%wp10)\n",
    "print(\"-----------------------------------------------\")\n",
    "print(\"逐類的recall: %f, %f, %f\"%(KXr10[0],KXr10[1],KXr10[2]))\n",
    "print(\"-----------------------------------------------\")\n",
    "print(\"使用weighted得到的recall:%f\"%wr10)"
   ]
  },
  {
   "cell_type": "code",
   "execution_count": 27,
   "metadata": {},
   "outputs": [],
   "source": [
    "KcXa10=0\n",
    "KcXp10=0\n",
    "KcXr10=0\n",
    "cwp10=0\n",
    "cwr10=0\n",
    "cX=np.cos(X)\n",
    "crskf = RepeatedStratifiedKFold(n_splits=10, n_repeats=1,random_state=36851234)\n",
    "for train_index, test_index in crskf.split(cX, y):\n",
    "    X_train, X_test = cX[train_index], cX[test_index]\n",
    "    y_train, y_test = y[train_index], y[test_index]\n",
    "    model.fit(X_train,y_train,batch_size=100,epochs=1100, verbose=0)\n",
    "    cyp=np.argmax(model.predict(X_test),axis=-1)\n",
    "    KcXa10+=accuracy_score(y_test,cyp)\n",
    "    KcXp10+=precision_score(y_test,cyp,average=None)\n",
    "    cwp10+=precision_score(y_test,cyp,average='weighted')\n",
    "    KcXr10+=recall_score(y_test,cyp,average=None)\n",
    "    cwr10+=recall_score(y_test,cyp,average='weighted')\n",
    "KcXa10/=10\n",
    "KcXp10/=10\n",
    "KcXr10/=10\n",
    "cwp10/=10\n",
    "cwr10/=10"
   ]
  },
  {
   "cell_type": "code",
   "execution_count": 28,
   "metadata": {},
   "outputs": [
    {
     "name": "stdout",
     "output_type": "stream",
     "text": [
      "以下是將原始資料經由cos轉換過後的結果\n",
      "Accuracy:0.933333\n",
      "-----------------------------------------------\n",
      "逐類的precision: 1.000000, 0.896429, 0.925000\n",
      "-----------------------------------------------\n",
      "使用weighted得到的precision:0.940476\n",
      "-----------------------------------------------\n",
      "逐類的recall: 0.980000, 0.940000, 0.880000\n",
      "-----------------------------------------------\n",
      "使用weighted得到的recall:0.933333\n"
     ]
    }
   ],
   "source": [
    "print(\"以下是將原始資料經由cos轉換過後的結果\")\n",
    "print(\"Accuracy:%f\"%KcXa10)\n",
    "print(\"-----------------------------------------------\")\n",
    "print(\"逐類的precision: %f, %f, %f\"%(KcXp10[0],KcXp10[1],KcXp10[2]))\n",
    "print(\"-----------------------------------------------\")\n",
    "print(\"使用weighted得到的precision:%f\"%cwp10)\n",
    "print(\"-----------------------------------------------\")\n",
    "print(\"逐類的recall: %f, %f, %f\"%(KcXr10[0],KcXr10[1],KcXr10[2]))\n",
    "print(\"-----------------------------------------------\")\n",
    "print(\"使用weighted得到的recall:%f\"%cwr10)"
   ]
  },
  {
   "cell_type": "code",
   "execution_count": 29,
   "metadata": {},
   "outputs": [
    {
     "name": "stdout",
     "output_type": "stream",
     "text": [
      "以上結果選擇使用precision來做舉例說明，若我們不希望發生「被我們歸類的花朵(歸類為label(0 or 1 or 2))明明不屬於該類別卻被我們歸類為該類別」的事件發生時，此時的precision越高越好\n"
     ]
    }
   ],
   "source": [
    "print(\"以上結果選擇使用precision來做舉例說明，若我們不希望發生「被我們歸類的花朵(歸類為label(0 or 1 or 2))明明不屬於該類別卻被我們歸類為該類別」的事件發生時，此時的precision越高越好\")"
   ]
  },
  {
   "cell_type": "code",
   "execution_count": 33,
   "metadata": {},
   "outputs": [],
   "source": [
    "from sklearn.linear_model import LogisticRegression\n",
    "import warnings\n",
    "warnings.filterwarnings(\"ignore\")\n",
    "LKXa10=0\n",
    "LKXp10=0\n",
    "LKXr10=0\n",
    "Lwp10=0\n",
    "Lwr10=0\n",
    "Lrskf = RepeatedStratifiedKFold(n_splits=10, n_repeats=1,random_state=36851234)\n",
    "for train_index, test_index in Lrskf.split(X, y):\n",
    "    X_train, X_test = X[train_index], X[test_index]\n",
    "    y_train, y_test = y[train_index], y[test_index]\n",
    "    Lp = LogisticRegression(random_state=0,multi_class = 'multinomial',solver='sag').fit(X_train, y_train)\n",
    "    Lyp=Lp.predict(X_test)\n",
    "    LKXa10+=accuracy_score(y_test,Lyp)\n",
    "    LKXp10+=precision_score(y_test,Lyp,average=None)\n",
    "    Lwp10+=precision_score(y_test,Lyp,average='weighted')\n",
    "    LKXr10+=recall_score(y_test,Lyp,average=None)\n",
    "    Lwr10+=recall_score(y_test,Lyp,average='weighted')\n",
    "LKXa10/=10\n",
    "LKXp10/=10\n",
    "LKXr10/=10\n",
    "Lwp10/=10\n",
    "Lwr10/=10"
   ]
  },
  {
   "cell_type": "code",
   "execution_count": 36,
   "metadata": {},
   "outputs": [
    {
     "name": "stdout",
     "output_type": "stream",
     "text": [
      "以下是使用sklearn.linear_model.LogisticRegression的結果\n",
      "Accuracy:0.986667\n",
      "-----------------------------------------------\n",
      "逐類的precision: 1.000000, 1.000000, 0.966667\n",
      "-----------------------------------------------\n",
      "使用weighted得到的precision:0.988889\n",
      "-----------------------------------------------\n",
      "逐類的recall: 1.000000, 0.960000, 1.000000\n",
      "-----------------------------------------------\n",
      "使用weighted得到的recall:0.986667\n",
      "-----------------------------------------------\n",
      "藉由上方資料可發現使用sklearn.linear_model.LogisticRegression和使用Functional API架設之神經網路的差異並不大\n"
     ]
    }
   ],
   "source": [
    "print(\"以下是使用sklearn.linear_model.LogisticRegression的結果\")\n",
    "print(\"Accuracy:%f\"%LKXa10)\n",
    "print(\"-----------------------------------------------\")\n",
    "print(\"逐類的precision: %f, %f, %f\"%(LKXp10[0],LKXp10[1],LKXp10[2]))\n",
    "print(\"-----------------------------------------------\")\n",
    "print(\"使用weighted得到的precision:%f\"%Lwp10)\n",
    "print(\"-----------------------------------------------\")\n",
    "print(\"逐類的recall: %f, %f, %f\"%(LKXr10[0],LKXr10[1],LKXr10[2]))\n",
    "print(\"-----------------------------------------------\")\n",
    "print(\"使用weighted得到的recall:%f\"%Lwr10)\n",
    "print(\"-----------------------------------------------\")\n",
    "print(\"藉由上方資料可發現使用sklearn.linear_model.LogisticRegression和使用Functional API架設之神經網路的差異並不大\")"
   ]
  }
 ],
 "metadata": {
  "kernelspec": {
   "display_name": "Python 3",
   "language": "python",
   "name": "python3"
  },
  "language_info": {
   "codemirror_mode": {
    "name": "ipython",
    "version": 3
   },
   "file_extension": ".py",
   "mimetype": "text/x-python",
   "name": "python",
   "nbconvert_exporter": "python",
   "pygments_lexer": "ipython3",
   "version": "3.8.5"
  }
 },
 "nbformat": 4,
 "nbformat_minor": 2
}
